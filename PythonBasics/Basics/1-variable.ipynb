{
 "cells": [
  {
   "cell_type": "code",
   "execution_count": 2,
   "id": "7f18d4be",
   "metadata": {},
   "outputs": [],
   "source": [
    "### Python Example "
   ]
  },
  {
   "cell_type": "code",
   "execution_count": 1,
   "id": "e1ce070a",
   "metadata": {},
   "outputs": [],
   "source": [
    "a=100"
   ]
  },
  {
   "cell_type": "code",
   "execution_count": 3,
   "id": "5dbbacc6",
   "metadata": {},
   "outputs": [
    {
     "name": "stdout",
     "output_type": "stream",
     "text": [
      "Name: Alice\n",
      "Age: 25\n",
      "Height: 175.5\n",
      "Is student: True\n",
      "None value: None\n"
     ]
    }
   ],
   "source": [
    "age = 25\n",
    "height = 175.5\n",
    "name = \"Alice\"\n",
    "is_student = True\n",
    "_none = None\n",
    "print(\"Name:\", name)\n",
    "print(\"Age:\", age)\n",
    "print(\"Height:\", height)\n",
    "print(\"Is student:\", is_student)\n",
    "print(\"None value:\", _none)"
   ]
  },
  {
   "cell_type": "code",
   "execution_count": null,
   "id": "ec458463",
   "metadata": {},
   "outputs": [
    {
     "name": "stdout",
     "output_type": "stream",
     "text": [
      "Alice Bob\n"
     ]
    }
   ],
   "source": [
    "## Variable Naming Conventions\n",
    "first_name = \"Alice\"\n",
    "last_name = \"Bob\"\n",
    "print(\"First Name:\", first_name)\n",
    "print(\"Last Name:\", last_name)"
   ]
  },
  {
   "cell_type": "code",
   "execution_count": 4,
   "id": "9a03dfb4",
   "metadata": {},
   "outputs": [
    {
     "name": "stdout",
     "output_type": "stream",
     "text": [
      "Type of height: <class 'float'>\n"
     ]
    }
   ],
   "source": [
    "## Python type checking\n",
    "height = 30.56\n",
    "type_of_height = type(height)\n",
    "print(f\"Type of height: {type_of_height}\")"
   ]
  },
  {
   "cell_type": "code",
   "execution_count": 9,
   "id": "5e964250",
   "metadata": {},
   "outputs": [
    {
     "name": "stdout",
     "output_type": "stream",
     "text": [
      "Type of a: <class 'int'>\n",
      "Type of b after conversion: <class 'str'>\n",
      "Type of a after reassignment: <class 'str'>\n",
      "Type of c after conversion: <class 'NoneType'>\n"
     ]
    }
   ],
   "source": [
    "## Python dynamic type variable reassignment\n",
    "a = 1\n",
    "print(f\"Type of a: {type(a)}\")\n",
    "b = str(a)\n",
    "print(f\"Type of b after conversion: {type(b)}\")\n",
    "a=\"Hello\"\n",
    "print(f\"Type of a after reassignment: {type(a)}\")\n",
    "c=int(a) if isinstance(a, str) and a.isdigit() else None\n",
    "print(f\"Type of c after conversion: {type(c)}\")"
   ]
  },
  {
   "cell_type": "code",
   "execution_count": null,
   "id": "120af02c",
   "metadata": {},
   "outputs": [
    {
     "name": "stdout",
     "output_type": "stream",
     "text": [
      "Your age is: 12\n",
      "Type of age: <class 'str'>\n"
     ]
    }
   ],
   "source": [
    "age = input(\"Enter your age: \")\n",
    "print(f\"Your age is: {age}\")\n",
    "print(f\"Type of age: {type(age)}\")"
   ]
  },
  {
   "cell_type": "code",
   "execution_count": 2,
   "id": "5540d013",
   "metadata": {},
   "outputs": [
    {
     "name": "stdout",
     "output_type": "stream",
     "text": [
      "Your age is: 323\n",
      "Type of age: <class 'int'>\n"
     ]
    }
   ],
   "source": [
    "age = int(input(\"Enter your age: \"))\n",
    "print(f\"Your age is: {age}\")\n",
    "print(f\"Type of age: {type(age)}\")"
   ]
  }
 ],
 "metadata": {
  "kernelspec": {
   "display_name": "anaconda-env",
   "language": "python",
   "name": "python3"
  },
  "language_info": {
   "codemirror_mode": {
    "name": "ipython",
    "version": 3
   },
   "file_extension": ".py",
   "mimetype": "text/x-python",
   "name": "python",
   "nbconvert_exporter": "python",
   "pygments_lexer": "ipython3",
   "version": "3.12.11"
  }
 },
 "nbformat": 4,
 "nbformat_minor": 5
}
