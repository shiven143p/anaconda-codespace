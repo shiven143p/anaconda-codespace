{
 "cells": [
  {
   "cell_type": "code",
   "execution_count": 2,
   "id": "7f18d4be",
   "metadata": {},
   "outputs": [],
   "source": [
    "### Python Example "
   ]
  },
  {
   "cell_type": "code",
   "execution_count": null,
   "id": "5dbbacc6",
   "metadata": {},
   "outputs": [
    {
     "name": "stdout",
     "output_type": "stream",
     "text": [
      "Name: Alice\n",
      "Age: 25\n",
      "Height: 175.5\n",
      "Is student: True\n",
      "None value: None\n"
     ]
    }
   ],
   "source": [
    "age = 25 #integer\n",
    "height = 175.5 #float\n",
    "name = \"Alice\" #string\n",
    "is_student = True #boolean\n",
    "_none = None #NoneType\n",
    "print(\"Name:\", name)\n",
    "print(\"Age:\", age)\n",
    "print(\"Height:\", height)\n",
    "print(\"Is student:\", is_student)\n",
    "print(\"None value:\", _none)"
   ]
  },
  {
   "cell_type": "code",
   "execution_count": 1,
   "id": "ec458463",
   "metadata": {},
   "outputs": [
    {
     "name": "stdout",
     "output_type": "stream",
     "text": [
      "First Name: Alice\n",
      "Last Name: 5\n",
      "Full Name: Alice 5\n"
     ]
    }
   ],
   "source": [
    "## Variable Naming Conventions\n",
    "first_name = \"Alice\"\n",
    "last_name = 5\n",
    "full_name = first_name + \" \" + str(last_name)\n",
    "print(\"First Name:\", first_name)\n",
    "print(\"Last Name:\", last_name)\n",
    "print(\"Full Name:\", full_name)"
   ]
  }
 ],
 "metadata": {
  "kernelspec": {
   "display_name": "anaconda-env",
   "language": "python",
   "name": "python3"
  },
  "language_info": {
   "codemirror_mode": {
    "name": "ipython",
    "version": 3
   },
   "file_extension": ".py",
   "mimetype": "text/x-python",
   "name": "python",
   "nbconvert_exporter": "python",
   "pygments_lexer": "ipython3",
   "version": "3.12.11"
  }
 },
 "nbformat": 4,
 "nbformat_minor": 5
}
