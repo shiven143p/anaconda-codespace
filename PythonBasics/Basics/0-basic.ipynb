{
 "cells": [
  {
   "cell_type": "code",
   "execution_count": 2,
   "id": "7f18d4be",
   "metadata": {},
   "outputs": [],
   "source": [
    "### Python Example "
   ]
  },
  {
   "cell_type": "code",
   "execution_count": 3,
   "id": "e1ce070a",
   "metadata": {},
   "outputs": [
    {
     "data": {
      "text/plain": [
       "2"
      ]
     },
     "execution_count": 3,
     "metadata": {},
     "output_type": "execute_result"
    }
   ],
   "source": [
    "1+1"
   ]
  },
  {
   "cell_type": "code",
   "execution_count": 4,
   "id": "5dbbacc6",
   "metadata": {},
   "outputs": [
    {
     "name": "stdout",
     "output_type": "stream",
     "text": [
      "Hello, World!\n"
     ]
    }
   ],
   "source": [
    "print(\"Hello, World!\")"
   ]
  },
  {
   "cell_type": "code",
   "execution_count": null,
   "id": "ec458463",
   "metadata": {},
   "outputs": [
    {
     "name": "stdout",
     "output_type": "stream",
     "text": [
      "Alice Bob\n"
     ]
    }
   ],
   "source": [
    "## Variable Naming Example Python case sensitivity\n",
    "name = \"Alice\"\n",
    "Name = \"Bob\"\n",
    "print(name, Name)"
   ]
  },
  {
   "cell_type": "code",
   "execution_count": 6,
   "id": "88934186",
   "metadata": {},
   "outputs": [
    {
     "name": "stdout",
     "output_type": "stream",
     "text": [
      "Adult\n",
      "End of block\n"
     ]
    }
   ],
   "source": [
    "## Python block structure\n",
    "age = 30\n",
    "if age > 18:\n",
    "    print(\"Adult\")\n",
    "else:\n",
    "    print(\"Minor\")    \n",
    "print(\"End of block\")    "
   ]
  },
  {
   "cell_type": "code",
   "execution_count": 7,
   "id": "6979c125",
   "metadata": {},
   "outputs": [
    {
     "name": "stdout",
     "output_type": "stream",
     "text": [
      "Total: 8\n"
     ]
    }
   ],
   "source": [
    "## Python Line Continuation\n",
    "total = 1 + \\\n",
    "    3+4\n",
    "print(\"Total:\", total)    "
   ]
  },
  {
   "cell_type": "code",
   "execution_count": 8,
   "id": "fc1b2396",
   "metadata": {},
   "outputs": [
    {
     "name": "stdout",
     "output_type": "stream",
     "text": [
      "Sum of 5 and 10 is 15\n"
     ]
    }
   ],
   "source": [
    "## Python multi-line  statements\n",
    "x=5;y=10;z=x+y\n",
    "print(f\"Sum of {x} and {y} is {z}\")"
   ]
  },
  {
   "cell_type": "code",
   "execution_count": null,
   "id": "9a03dfb4",
   "metadata": {},
   "outputs": [
    {
     "name": "stdout",
     "output_type": "stream",
     "text": [
      "Type of age: <class 'int'>\n"
     ]
    }
   ],
   "source": [
    "## Python type checking\n",
    "age = 30\n",
    "type_of_age = type(age)\n",
    "print(f\"Type of age: {type_of_age}\")"
   ]
  },
  {
   "cell_type": "code",
   "execution_count": null,
   "id": "5e964250",
   "metadata": {},
   "outputs": [
    {
     "name": "stdout",
     "output_type": "stream",
     "text": [
      "Type of a: <class 'int'>\n",
      "Type of a after reassignment: <class 'str'>\n"
     ]
    }
   ],
   "source": [
    "## Python variable reassignment\n",
    "a = 1\n",
    "print(f\"Type of a: {type(a)}\")\n",
    "a=\"Hello\"\n",
    "print(f\"Type of a after reassignment: {type(a)}\")"
   ]
  },
  {
   "cell_type": "code",
   "execution_count": null,
   "id": "120af02c",
   "metadata": {},
   "outputs": [],
   "source": []
  }
 ],
 "metadata": {
  "kernelspec": {
   "display_name": "anaconda-env",
   "language": "python",
   "name": "python3"
  },
  "language_info": {
   "codemirror_mode": {
    "name": "ipython",
    "version": 3
   },
   "file_extension": ".py",
   "mimetype": "text/x-python",
   "name": "python",
   "nbconvert_exporter": "python",
   "pygments_lexer": "ipython3",
   "version": "3.12.11"
  }
 },
 "nbformat": 4,
 "nbformat_minor": 5
}
