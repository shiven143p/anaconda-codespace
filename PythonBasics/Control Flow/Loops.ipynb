{
 "cells": [
  {
   "cell_type": "code",
   "execution_count": 5,
   "id": "38f6f7e6",
   "metadata": {},
   "outputs": [
    {
     "name": "stdout",
     "output_type": "stream",
     "text": [
      "1 is odd\n",
      "2 is even\n",
      "3 is odd\n",
      "4 is even\n",
      "5 is odd\n",
      "6 is even\n",
      "7 is odd\n",
      "8 is even\n",
      "9 is odd\n",
      "10 is even\n"
     ]
    }
   ],
   "source": [
    "#for loop\n",
    "for i in range(1, 11):\n",
    "    if i % 2 == 0:\n",
    "        print(f\"{i} is even\")\n",
    "    else:\n",
    "        print(f\"{i} is odd\")"
   ]
  },
  {
   "cell_type": "code",
   "execution_count": 4,
   "id": "1bbfb370",
   "metadata": {},
   "outputs": [
    {
     "name": "stdout",
     "output_type": "stream",
     "text": [
      "1 is odd\n",
      "2 is even\n",
      "3 is odd\n",
      "4 is even\n",
      "5 is odd\n",
      "6 is even\n",
      "7 is odd\n",
      "8 is even\n",
      "9 is odd\n",
      "10 is even\n"
     ]
    }
   ],
   "source": [
    "#while loop\n",
    "j = 1\n",
    "while j <= 10:\n",
    "    if j % 2 == 0:\n",
    "        print(f\"{j} is even\")\n",
    "    else:\n",
    "        print(f\"{j} is odd\")\n",
    "    j += 1"
   ]
  },
  {
   "cell_type": "code",
   "execution_count": 3,
   "id": "afa60a02",
   "metadata": {},
   "outputs": [
    {
     "name": "stdout",
     "output_type": "stream",
     "text": [
      "1 is odd\n",
      "2 is even\n",
      "3 is odd\n",
      "4 is even\n",
      "5 is odd\n",
      "6 is even\n",
      "7 is odd\n",
      "8 is even\n",
      "9 is odd\n",
      "10 is even\n"
     ]
    }
   ],
   "source": [
    "#do while loop\n",
    "j = 1\n",
    "while True:\n",
    "    if j % 2 == 0:\n",
    "        print(f\"{j} is even\")\n",
    "    else:\n",
    "        print(f\"{j} is odd\")\n",
    "    j += 1\n",
    "    if j > 10:\n",
    "        break"
   ]
  },
  {
   "cell_type": "code",
   "execution_count": 2,
   "id": "2334ee25",
   "metadata": {},
   "outputs": [
    {
     "name": "stdout",
     "output_type": "stream",
     "text": [
      "1\n",
      "2\n",
      "3\n",
      "4\n",
      "5\n",
      "6\n",
      "7\n",
      "8\n",
      "9\n",
      "10\n",
      "11\n",
      "12\n",
      "13\n",
      "14\n",
      "Breaking the loop at 15\n"
     ]
    }
   ],
   "source": [
    "#break statement\n",
    "for k in range(1, 21):\n",
    "    if k == 15:\n",
    "        print(\"Breaking the loop at 15\")\n",
    "        break\n",
    "    print(k)"
   ]
  },
  {
   "cell_type": "code",
   "execution_count": 1,
   "id": "fa9283bc",
   "metadata": {},
   "outputs": [
    {
     "name": "stdout",
     "output_type": "stream",
     "text": [
      "1\n",
      "2\n",
      "Skipping 3 as it is divisible by 3\n",
      "4\n",
      "5\n",
      "Skipping 6 as it is divisible by 3\n",
      "7\n",
      "8\n",
      "Skipping 9 as it is divisible by 3\n",
      "10\n",
      "11\n",
      "Skipping 12 as it is divisible by 3\n",
      "13\n",
      "14\n",
      "Skipping 15 as it is divisible by 3\n",
      "16\n",
      "17\n",
      "Skipping 18 as it is divisible by 3\n",
      "19\n",
      "20\n"
     ]
    }
   ],
   "source": [
    "#continue statement\n",
    "for l in range(1, 21):\n",
    "    if l % 3 == 0:\n",
    "        print(f\"Skipping {l} as it is divisible by 3\")\n",
    "        continue\n",
    "    print(l)"
   ]
  },
  {
   "cell_type": "code",
   "execution_count": 7,
   "id": "6603ff40",
   "metadata": {},
   "outputs": [
    {
     "name": "stdout",
     "output_type": "stream",
     "text": [
      "Current fruit: apple\n",
      "Current fruit: banana\n",
      "Current fruit: cherry\n",
      "Current fruit: date\n",
      "Index 0: apple\n",
      "Index 1: banana\n",
      "Index 2: cherry\n",
      "Index 3: date\n"
     ]
    }
   ],
   "source": [
    "string_list = [\"apple\", \"banana\", \"cherry\", \"date\"]\n",
    "#for loop with string list\n",
    "for fruit in string_list:\n",
    "    print(f\"Current fruit: {fruit}\")\n",
    "\n",
    "#for loop with enumerate\n",
    "for index, fruit in enumerate(string_list):\n",
    "    print(f\"Index {index}: {fruit}\")"
   ]
  },
  {
   "cell_type": "code",
   "execution_count": 6,
   "id": "cf255093",
   "metadata": {},
   "outputs": [
    {
     "name": "stdout",
     "output_type": "stream",
     "text": [
      "Current number: 1\n",
      "Current number: 2\n",
      "Current number: 3\n",
      "Current number: 4\n",
      "Current number: 5\n"
     ]
    }
   ],
   "source": [
    "#pass statement\n",
    "for m in range(1, 6):\n",
    "    if m == 3:\n",
    "        pass  # Placeholder for future code\n",
    "    print(f\"Current number: {m}\")"
   ]
  },
  {
   "cell_type": "code",
   "execution_count": 9,
   "id": "35f0f0e7",
   "metadata": {},
   "outputs": [
    {
     "name": "stdout",
     "output_type": "stream",
     "text": [
      "Outer loop 1, Inner loop 1\n",
      "Outer loop 1, Inner loop 2\n",
      "Outer loop 1, Inner loop 3\n",
      "Outer loop 2, Inner loop 1\n",
      "Outer loop 2, Inner loop 2\n",
      "Outer loop 2, Inner loop 3\n",
      "Outer loop 3, Inner loop 1\n",
      "Outer loop 3, Inner loop 2\n",
      "Outer loop 3, Inner loop 3\n"
     ]
    }
   ],
   "source": [
    "#nested loops\n",
    "for n in range(1, 4):\n",
    "    for o in range(1, 4):\n",
    "        print(f\"Outer loop {n}, Inner loop {o}\")\n"
   ]
  }
 ],
 "metadata": {
  "kernelspec": {
   "display_name": "anaconda-env",
   "language": "python",
   "name": "python3"
  },
  "language_info": {
   "codemirror_mode": {
    "name": "ipython",
    "version": 3
   },
   "file_extension": ".py",
   "mimetype": "text/x-python",
   "name": "python",
   "nbconvert_exporter": "python",
   "pygments_lexer": "ipython3",
   "version": "3.12.11"
  }
 },
 "nbformat": 4,
 "nbformat_minor": 5
}
