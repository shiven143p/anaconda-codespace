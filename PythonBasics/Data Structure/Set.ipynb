{
 "cells": [
  {
   "cell_type": "code",
   "execution_count": 1,
   "id": "7ac2572d",
   "metadata": {},
   "outputs": [
    {
     "name": "stdout",
     "output_type": "stream",
     "text": [
      "{1, 2, 3, 4, 5}\n",
      "set()\n"
     ]
    }
   ],
   "source": [
    "#my_set\n",
    "my_set = {1, 2, 3, 4, 5}\n",
    "print(my_set)\n",
    "my_set = set()\n",
    "print(my_set)"
   ]
  },
  {
   "cell_type": "code",
   "execution_count": 5,
   "id": "f90089bf",
   "metadata": {},
   "outputs": [
    {
     "name": "stdout",
     "output_type": "stream",
     "text": [
      "[1, 2, 3, 4, 5, 5, 4, 3, 2, 1]\n",
      "<class 'list'>\n",
      "{1, 2, 3, 4, 5}\n",
      "<class 'set'>\n"
     ]
    }
   ],
   "source": [
    "my_set = [1, 2, 3, 4, 5,5,4,3,2,1]\n",
    "print(my_set)\n",
    "print(type(my_set))\n",
    "my_set = set(my_set)\n",
    "print(my_set)\n",
    "print(type(my_set))"
   ]
  },
  {
   "cell_type": "code",
   "execution_count": 7,
   "id": "a31f6adb",
   "metadata": {},
   "outputs": [
    {
     "name": "stdout",
     "output_type": "stream",
     "text": [
      "{1, 2, 3, 4, 5}\n",
      "{1, 2, 3, 4, 5, 6}\n",
      "{2, 3, 4, 5, 6}\n",
      "{2, 3, 4, 5, 6}\n",
      "{3, 4, 5, 6}\n",
      "set()\n",
      "{1, 2, 3, 4, 5, 6, 7, 8}\n",
      "{4, 5}\n",
      "{1, 2, 3}\n",
      "{1, 2, 3, 6, 7, 8}\n",
      "False\n",
      "False\n",
      "frozenset({1, 2, 3, 4, 5})\n",
      "{1, 2, 3, 4, 5}\n",
      "[1, 2, 3, 4, 5]\n"
     ]
    }
   ],
   "source": [
    "#basic set operations\n",
    "my_set = {1, 2, 3, 4, 5}\n",
    "print(my_set)\n",
    "my_set.add(6)\n",
    "print(my_set)\n",
    "my_set.remove(1)\n",
    "print(my_set)\n",
    "my_set.discard(20) # does not raise an error if the element is not found\n",
    "print(my_set)\n",
    "my_set.pop() # removes and returns an arbitrary element\n",
    "print(my_set)\n",
    "my_set.clear() # removes all elements\n",
    "print(my_set)\n",
    "# set operations\n",
    "my_set1 = {1, 2, 3, 4, 5}\n",
    "my_set2 = {4, 5, 6, 7, 8}\n",
    "print(my_set1.union(my_set2))  # union\n",
    "print(my_set1.intersection(my_set2))  # intersection\n",
    "print(my_set1.difference(my_set2))  # difference\n",
    "print(my_set1.symmetric_difference(my_set2))  # symmetric difference`\n",
    "print(my_set1.issubset(my_set2))  # subset\n",
    "print(my_set1.issuperset(my_set2))  # superset\n",
    "# frozen set\n",
    "my_frozen_set = frozenset([1, 2, 3, 4, 5])\n",
    "print(my_frozen_set)\n",
    "# my_frozen_set.add(6)  # raises an error, as frozensets are immutable\n",
    "# converting between set and list\n",
    "my_list = [1, 2, 3, 4, 5]\n",
    "my_set = set(my_list)\n",
    "print(my_set)\n",
    "my_list = list(my_set)\n",
    "print(my_list)"
   ]
  },
  {
   "cell_type": "code",
   "execution_count": 9,
   "id": "d1faf3ec",
   "metadata": {},
   "outputs": [
    {
     "name": "stdout",
     "output_type": "stream",
     "text": [
      "{0, 2, 4, 6, 8}\n",
      "{'l', 'w', 'd', ' ', 'h', 'r'}\n",
      "{(1, 2), (3, 4), (5, 6)}\n",
      "{'hello', 1, (1, 2), 3.14}\n",
      "{frozenset({3, 4}), frozenset({1, 2})}\n",
      "{None, 0, ''}\n",
      "{1, (1, 2), 3.14, frozenset({1, 2}), 'text'}\n"
     ]
    }
   ],
   "source": [
    "\n",
    "# set comprehensions\n",
    "my_set = {x for x in range(10) if x % 2 == 0}\n",
    "print(my_set)  # {0, 2, 4, 6, 8}\n",
    "# set with strings\n",
    "my_set = {char for char in \"hello world\" if char not in \"aeiou\"}\n",
    "print(my_set)  # {'h', 'l', ' ', 'r', 'w', 'd'}\n",
    "# set with tuples\n",
    "my_set = {tuple(x) for x in [(1, 2), (3, 4), (5, 6)]}\n",
    "print(my_set)  # {(1, 2), (3, 4), (5, 6)}\n",
    "# set with mixed types\n",
    "my_set = {1, \"hello\", (1, 2), 3.14}\n",
    "print(my_set)  # {1, 'hello', (1, 2), 3.14}\n",
    "# set with nested sets\n",
    "my_set = {frozenset({1, 2}), frozenset({3, 4})}\n",
    "print(my_set)  # {frozenset({1, 2}), frozenset({3, 4})}\n",
    "# set with empty elements\n",
    "my_set = {None, 0, False, \"\"}\n",
    "print(my_set)  # {None, 0, False, ''}\n",
    "# set with mixed data types\n",
    "my_set = {1, \"text\", 3.14, (1, 2), frozenset({1, 2})}\n",
    "print(my_set)  # {1, 'text', 3.14, (1, 2), frozenset({1, 2})}"
   ]
  }
 ],
 "metadata": {
  "kernelspec": {
   "display_name": "anaconda-env",
   "language": "python",
   "name": "python3"
  },
  "language_info": {
   "codemirror_mode": {
    "name": "ipython",
    "version": 3
   },
   "file_extension": ".py",
   "mimetype": "text/x-python",
   "name": "python",
   "nbconvert_exporter": "python",
   "pygments_lexer": "ipython3",
   "version": "3.12.11"
  }
 },
 "nbformat": 4,
 "nbformat_minor": 5
}
