{
 "cells": [
  {
   "cell_type": "code",
   "execution_count": 11,
   "id": "6894b3df",
   "metadata": {},
   "outputs": [
    {
     "name": "stdout",
     "output_type": "stream",
     "text": [
      "[range(1, 10), 2, 3, range(4, 7), 5, 6, range(8, 10)]\n",
      "[range(1, 10), range(4, 7), range(8, 10)]\n"
     ]
    }
   ],
   "source": [
    "lst=[range(1, 10), 2, 3, range(4, 7), 5, 6, range(8, 10)]\n",
    "print(lst)\n",
    "lst = [x for x in lst if isinstance(x, range)]\n",
    "print(lst)"
   ]
  },
  {
   "cell_type": "code",
   "execution_count": null,
   "id": "19fd2591",
   "metadata": {},
   "outputs": [],
   "source": [
    "#list operations\n",
    "list2 = [1, 2, 3, 4, 5]\n",
    "print(\"List:\", list2)  ## print list\n",
    "print(\"Length of list2:\", len(list2))  ## length of list\n",
    "print(\"Append 6 to list2:\", list2.append(6))  ## append element\n",
    "print(\"List after appending 6:\", list2)  ## print list after appending\n",
    "print(\"Insert 0 at index 0:\", list2.insert(0, 0))  ## insert element\n",
    "print(\"List after inserting 0:\", list2)  ## print list after inserting\n",
    "print(\"Remove last element:\", list2.pop())  ## remove last element\n",
    "print(\"List after popping last element:\", list2)  ## print list after popping\n",
    "print(\"Remove element 3:\", list2.remove(3))  ## remove specific element\n",
    "print(\"List after removing 3:\", list2)  ## print list after removing\n",
    "print(\"Sort list2:\", list2.sort())  ## sort list\n",
    "print(\"List after sorting:\", list2)  ## print sorted list\n",
    "print(\"Reverse list2:\", list2.reverse())  ## reverse list\n",
    "print(\"List after reversing:\", list2)  ## print reversed list\n",
    "print(\"Index of element 2:\", list2.index(2))  ## find index of element\n",
    "print(\"Count of element 1:\", list2.count(1))  ## count occurrences of element\n",
    "print(\"Slicing list2[1:4]:\", list2[1:4])  ## slice list\n",
    "print(\"List2 + [7, 8]:\", list2 + [7, 8])  ## concatenate lists\n",
    "print(\"List2 * 2:\", list2 * 2)  ## repeat list\n",
    "print(\"List2 in string format:\", str(list2))  ## convert list to string\n",
    "print(\"List2 as a tuple:\", tuple(list2))  ## convert list to tuple\n",
    "print(\"List2 as a set:\", set(list2))  ## convert list to set\n",
    "print(\"List2 as a dictionary:\", dict(enumerate(list2)))  ## convert list to dictionary\n",
    "#clear the list\n",
    "list2.clear()  ## clear the list"
   ]
  },
  {
   "cell_type": "code",
   "execution_count": null,
   "id": "b581b338",
   "metadata": {},
   "outputs": [
    {
     "name": "stdout",
     "output_type": "stream",
     "text": [
      "List of squares: [1, 4, 9, 16, 25, 36, 49, 64, 81]\n",
      "List of squares using comprehension: [1, 4, 9, 16, 25, 36, 49, 64, 81]\n"
     ]
    }
   ],
   "source": [
    "lst= []\n",
    "for i in range(1, 10):\n",
    "    lst.append(i**2)    ## append squares of numbers to list\n",
    "\n",
    "print(\"List of squares:\", lst)  ## print list of squares\n",
    "\n",
    "#list comprehension\n",
    "lst = [i**2 for i in range(1, 10)]  ## create list of squares using list comprehension\n",
    "print(\"List of squares using comprehension:\", lst)  ## print list of squares from comprehension"
   ]
  },
  {
   "cell_type": "code",
   "execution_count": 14,
   "id": "25beb5db",
   "metadata": {},
   "outputs": [
    {
     "name": "stdout",
     "output_type": "stream",
     "text": [
      "Nested list comprehension: [[1, 1], [1, 2], [1, 3], [2, 1], [2, 2], [2, 3], [3, 1], [3, 2], [3, 3]]\n"
     ]
    }
   ],
   "source": [
    "#nested list comprehension\n",
    "lst = [[i, j] for i in range(1, 4) for j in range(1, 4)]  ## create nested list comprehension\n",
    "print(\"Nested list comprehension:\", lst)  ## print nested list comprehension"
   ]
  },
  {
   "cell_type": "code",
   "execution_count": 15,
   "id": "166c4cc5",
   "metadata": {},
   "outputs": [
    {
     "name": "stdout",
     "output_type": "stream",
     "text": [
      "List of even numbers using comprehension: [2, 4, 6, 8]\n"
     ]
    }
   ],
   "source": [
    "#conditional list comprehension\n",
    "lst = [i for i in range(1, 10) if i % 2 == 0]  ## create list of even numbers using comprehension\n",
    "print(\"List of even numbers using comprehension:\", lst)  ## print list of even numbers from comprehension"
   ]
  },
  {
   "cell_type": "code",
   "execution_count": null,
   "id": "dc64a67c",
   "metadata": {},
   "outputs": [],
   "source": [
    "#multiple conditions list comprehension\n",
    "lst = [i for i in range(1, 20) if i % 2 == 0 and i % 3 == 0]  ## create list of numbers divisible by 2 and 3"
   ]
  },
  {
   "cell_type": "code",
   "execution_count": null,
   "id": "f7a82e20",
   "metadata": {},
   "outputs": [],
   "source": [
    "#if else in list comprehension\n",
    "lst = [i if i % 2 == 0 else -i for i in range(1, 10)]  ## create list with even numbers as is and odd numbers negated"
   ]
  }
 ],
 "metadata": {
  "kernelspec": {
   "display_name": "anaconda-env",
   "language": "python",
   "name": "python3"
  },
  "language_info": {
   "codemirror_mode": {
    "name": "ipython",
    "version": 3
   },
   "file_extension": ".py",
   "mimetype": "text/x-python",
   "name": "python",
   "nbconvert_exporter": "python",
   "pygments_lexer": "ipython3",
   "version": "3.12.11"
  }
 },
 "nbformat": 4,
 "nbformat_minor": 5
}
